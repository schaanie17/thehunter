{
 "cells": [
  {
   "cell_type": "code",
   "execution_count": 1,
   "id": "b29b5757",
   "metadata": {},
   "outputs": [],
   "source": [
    "import json\n",
    "import re\n",
    "import requests\n",
    "import urllib\n",
    "\n",
    "from IPython.core.display import HTML"
   ]
  },
  {
   "cell_type": "markdown",
   "id": "dc7b866f",
   "metadata": {},
   "source": [
    "## Settings"
   ]
  },
  {
   "cell_type": "code",
   "execution_count": 2,
   "id": "397747d1",
   "metadata": {},
   "outputs": [],
   "source": [
    "# Selected reserve\n",
    "reserve  = \"Redfeather Falls\"\n",
    "\n",
    "# Login info for www.thehunter.com\n",
    "username = \"<email>\"\n",
    "password = \"<password>\""
   ]
  },
  {
   "cell_type": "markdown",
   "id": "33251254",
   "metadata": {},
   "source": [
    "## Scrape Active Missions and My Items from www.thehunter.com\n",
    "Change username and password"
   ]
  },
  {
   "cell_type": "code",
   "execution_count": 3,
   "id": "fc0a6326",
   "metadata": {},
   "outputs": [],
   "source": [
    "session = requests.Session()\n",
    "\n",
    "data  = urllib.parse.urlencode({\"email\": username, \"password\": password})\n",
    "r1    = session.post(\"https://www.thehunter.com/login?xhr=true&return_to=/\",data=data)\n",
    "\n",
    "r2    = session.get (\"https://www.thehunter.com/#feed\")\n",
    "token = re.search(r'var userAccessToken = \"(\\w+)\";',r2.text)[1]\n",
    "\n",
    "data  = urllib.parse.urlencode({\"oauth_access_token\": token})\n",
    "r3    = session.post(\"https://api.thehunter.com/v1/Mission/missions\",data=data)\n",
    "\n",
    "r4    = session.post(\"https://api.thehunter.com/v1/Me/me\",data=data)"
   ]
  },
  {
   "cell_type": "code",
   "execution_count": 4,
   "id": "ad76e5ea",
   "metadata": {},
   "outputs": [],
   "source": [
    "activeMissions = json.loads(r3._content)[\"active\"]\n",
    "myItems        = dict((int(iid),cnt) for iid,cnt in json.loads(r4._content)[\"items\"].items())"
   ]
  },
  {
   "cell_type": "markdown",
   "id": "3a3b7b76",
   "metadata": {},
   "source": [
    "## Load Global Data from Local File\n",
    "Save the \"LocalStorage\" for www.thehunter.com in your browser"
   ]
  },
  {
   "cell_type": "code",
   "execution_count": 5,
   "id": "ba460575",
   "metadata": {},
   "outputs": [],
   "source": [
    "storage  = json.load(open(\"storage.json\",\"r\"))\n",
    "\n",
    "missions = dict([(m[\"id\"],m) for m in storage[\"missions\"]])\n",
    "species  = dict([(s[\"id\"],s) for s in storage[\"species\" ]])\n",
    "reserves = dict([(r[\"id\"],r) for r in storage[\"reserves\"]])\n",
    "items    = dict([(i[\"id\"],i) for i in storage[\"items\"   ]])"
   ]
  },
  {
   "cell_type": "code",
   "execution_count": 6,
   "id": "6da2a738",
   "metadata": {},
   "outputs": [],
   "source": [
    "missionGroups = {}\n",
    "for mg in storage[\"missionGroups\"]:\n",
    "    mgid = mg[\"id\"]\n",
    "    missionGroups[mgid] = mg\n",
    "    for mid in mg[\"missions\"]:\n",
    "        missions[mid][\"missionGroup\"] = mgid"
   ]
  },
  {
   "cell_type": "markdown",
   "id": "fc5b6977",
   "metadata": {},
   "source": [
    "## Filter Missions by Keywords"
   ]
  },
  {
   "cell_type": "markdown",
   "id": "6db7f0b1",
   "metadata": {},
   "source": [
    "Check whether at least one of the keywords appears in one of the titles"
   ]
  },
  {
   "cell_type": "code",
   "execution_count": 7,
   "id": "e2adbe94",
   "metadata": {},
   "outputs": [],
   "source": [
    "def checkKeywords(kws,titles):\n",
    "    for ti in titles:\n",
    "        pattern = f\"({'|'.join(re.escape(kw) for kw in kws)})\"\n",
    "        newTi,n = re.subn(pattern,r\"<mark>\\1</mark>\",ti,flags=re.IGNORECASE)\n",
    "        if n > 0:\n",
    "            return newTi\n",
    "    return None"
   ]
  },
  {
   "cell_type": "markdown",
   "id": "25fd9d11",
   "metadata": {},
   "source": [
    "Extract keywords from a reserve"
   ]
  },
  {
   "cell_type": "code",
   "execution_count": 8,
   "id": "39efc74a",
   "metadata": {},
   "outputs": [],
   "source": [
    "def reserveKeyword(r):\n",
    "    nm = r[\"name\"]\n",
    "    if nm == \"Whitehart Island\":\n",
    "        return (\"Whitehart\", nm)\n",
    "    elif nm == \"Logger's Point\":\n",
    "        return (\"Loggers Point\", nm)\n",
    "    return (nm,)"
   ]
  },
  {
   "cell_type": "markdown",
   "id": "e52d8914",
   "metadata": {},
   "source": [
    "Extract keywords from a species"
   ]
  },
  {
   "cell_type": "code",
   "execution_count": 9,
   "id": "80f2149e",
   "metadata": {},
   "outputs": [],
   "source": [
    "def speciesKeyword(s):\n",
    "    nm = s[\"name\"]\n",
    "    if nm.endswith(\" (Typical)\"):\n",
    "        nm = nm[:-10]\n",
    "    elif nm.endswith(\" (Non-Typical)\"):\n",
    "        return tuple()\n",
    "    return (nm,)"
   ]
  },
  {
   "cell_type": "markdown",
   "id": "65e3aec5",
   "metadata": {},
   "source": [
    "Extract keywords for an item"
   ]
  },
  {
   "cell_type": "code",
   "execution_count": 10,
   "id": "d37c36d4",
   "metadata": {},
   "outputs": [],
   "source": [
    "def itemKeyword(i):\n",
    "    nm  = i[\"name\"]\n",
    "    snm = i[\"shortname\"]\n",
    "    if nm == \"Compound Bow \\\"Parker Python\\\"\":\n",
    "        return (\"Parker Python Compound Bow\",nm,snm)\n",
    "    elif nm.startswith(\"Aimpoint\"):\n",
    "        return (nm,\"Aimpoint Sight\")\n",
    "    elif snm is not None:\n",
    "        return (nm,snm)\n",
    "    else:\n",
    "        return (nm,)        "
   ]
  },
  {
   "cell_type": "markdown",
   "id": "35770101",
   "metadata": {},
   "source": [
    "Collect all bad keywords"
   ]
  },
  {
   "cell_type": "code",
   "execution_count": 11,
   "id": "81c7367e",
   "metadata": {},
   "outputs": [],
   "source": [
    "badKeywords  = set()\n",
    "goodKeywords = set()\n",
    "\n",
    "# get id of selected reserve\n",
    "rid = [rid for rid,r in reserves.items() if r[\"name\"] == reserve][0]\n",
    "\n",
    "goodKeywords.add(reserve)\n",
    "\n",
    "# add keywords for all other reserves\n",
    "for orid,r in reserves.items():\n",
    "    if rid != orid:\n",
    "        badKeywords.update(reserveKeyword(r))\n",
    "     \n",
    "# add keywords for the species in the selected reserve\n",
    "for sid in reserves[rid][\"species\"]:\n",
    "    goodKeywords.update(speciesKeyword(species[sid]))\n",
    "    \n",
    "# add keywords for all species that are not in the selected reserve\n",
    "for sid,s in species.items():\n",
    "    if sid not in reserves[rid][\"species\"]:\n",
    "        badKeywords.update(speciesKeyword(s))\n",
    "\n",
    "# add keywords for all my items\n",
    "for iid,count in myItems.items():\n",
    "    if count[0] > 0:\n",
    "        goodKeywords.update(itemKeyword(items[iid]))\n",
    "\n",
    "# add keywords for all items that I do not own\n",
    "for iid,i in items.items():\n",
    "    if iid not in myItems.keys() or myItems[iid][0] == 0:\n",
    "        badKeywords.update(itemKeyword(i))"
   ]
  },
  {
   "cell_type": "code",
   "execution_count": 12,
   "id": "f0d32462",
   "metadata": {},
   "outputs": [],
   "source": [
    "# Remove good keywords from bad keywords\n",
    "# e.g. if the selected reserve has a Willow Ptarmigan resulting in a good keyword \"Ptarmigan\"\n",
    "# and the bad keywords contain \"Ptarmigan\" because of the \"Rock Ptarmigan\", then a mission which\n",
    "# mentions just a Ptarmigan shall not be filtered out\n",
    "\n",
    "badKeywords -= goodKeywords"
   ]
  },
  {
   "cell_type": "markdown",
   "id": "b7525179",
   "metadata": {},
   "source": [
    "Filter missions that contain no bad keywords"
   ]
  },
  {
   "cell_type": "code",
   "execution_count": 13,
   "id": "1d955ae7",
   "metadata": {
    "scrolled": false
   },
   "outputs": [],
   "source": [
    "goodMissions = []\n",
    "badMissions  = []\n",
    "\n",
    "for mid in activeMissions:\n",
    "    m  = missions[mid]\n",
    "    mg = missionGroups[m[\"missionGroup\"]]\n",
    "    \n",
    "    mgTitle = mg[\"title\"]\n",
    "    mTitle  = m[\"title\"]\n",
    "    tTitles = tuple(obj[\"title\"] for obj in m[\"objectives\"])\n",
    "    \n",
    "    ret = checkKeywords(badKeywords, (mgTitle, mTitle) + tTitles)\n",
    "    if ret is not None:\n",
    "        badMissions.append((m,mg,ret))\n",
    "    else:\n",
    "        goodMissions.append((m,mg))"
   ]
  },
  {
   "cell_type": "markdown",
   "id": "f1ebe5c5",
   "metadata": {},
   "source": [
    "## Output HTML Table with Filtered Missions\n",
    "Missions that are ready to be completed are shown on top. After that all the blocked missions appear together with the title and highlighted keyword, which caused the mission to be filtered out."
   ]
  },
  {
   "cell_type": "code",
   "execution_count": 14,
   "id": "fe3f7b5a",
   "metadata": {
    "scrolled": false
   },
   "outputs": [
    {
     "data": {
      "text/html": [
       "<table><tr><td>The Long Shot</td><td>Whitetail Deer Missions</td><td style='text-align:left'><ul><li>Take a Whitetail Deer buck with at least 8 typical points from 115m (approx. 377ft.) or more</li></ul></td></tr><tr><td>Taking Down the King</td><td>Roosevelt Elk Missions</td><td style='text-align:left'><ul><li>Harvest an Elk Bull over 453.6kg (approx. 1000lbs).</li></ul></td></tr><tr><td>Mercy Cull</td><td>Black Bear Missions</td><td style='text-align:left'><ul><li>Harvest the infected chocolate colored male Black Bear in Redfeather Falls.</li></ul></td></tr><tr><td>A Long-Distance Relationship</td><td>Blacktail Deer Missions</td><td style='text-align:left'><ul><li>Harvest a Male Blacktail Deer from more than 150m (approx. 492 ft.) using the .308 Anschütz Rifle</li></ul></td></tr><tr><td>Prove Yourself</td><td>Laura Francese Missions</td><td style='text-align:left'><ul><li>ID tracks from a Whitetail Deer</li><li>ID tracks from a Blacktail Deer during the same hunt.</li><li>ID tracks from a Roosevelt Elk  during the same hunt.</li><li>ID tracks from a Black Bear during the same hunt.</li><li>ID tracks from a Moose during the same hunt.</li></ul></td></tr><tr><td>Choosing The Right Equipment</td><td>The Boone And Crockett Club Missions</td><td style='text-align:left'><ul><li>Harvest a Moose at a 100% Harvest Value from a Hunting Tower using a scoped weapon.</li></ul></td></tr><tr><td>A Mess</td><td>Redfeather Falls Travel Missions (Single Player)</td><td style='text-align:left'><ul><li>Start at Darkwood Lodge in Redfeather Falls.</li><li>Then arrive at The Crater (x -11265, y -4000) in the same hunt.</li><li>Then arrive at The Lonely Creek (x -10746, y -5436) in the same hunt.</li><li>Then arrive at Peak Forest (x -12263, y -6367) in the same hunt.</li><li>At any point during the same hunt, ID droppings from a Moose.</li><li>At any point during the same hunt, ID droppings from a Roosevelt Elk.</li><li>At any point during the same hunt, ID droppings from a Blacktail Deer.</li><li>At any point during the same hunt, ID droppings from a Black Bear.</li></ul></td></tr><tr><td>Hot as ice</td><td>Whiterime Ridge Travel Missions</td><td style='text-align:left'><mark>Whiterime Ridge</mark> Travel Missions</td></tr><tr><td>Triple Turkey Tracker</td><td>Turkey Missions</td><td style='text-align:left'><mark>Turkey</mark> Missions</td></tr><tr><td>A Longer Range</td><td>Mule Deer Missions</td><td style='text-align:left'><mark>Mule Deer</mark> Missions</td></tr><tr><td>On All Fours</td><td>Grey Wolf Missions</td><td style='text-align:left'><mark>Grey Wolf</mark> Missions</td></tr><tr><td>North to South</td><td>Whitehart Sightseeing Missions</td><td style='text-align:left'><mark>Whitehart</mark> Sightseeing Missions</td></tr><tr><td>Eye Spy</td><td>Coyote Missions</td><td style='text-align:left'><mark>Coyote</mark> Missions</td></tr><tr><td>Dinner For Two</td><td>Pheasant Missions</td><td style='text-align:left'><mark>Pheasant</mark> Missions</td></tr><tr><td>Squealer</td><td>Feral Hog Missions</td><td style='text-align:left'><mark>Feral Hog</mark> Missions</td></tr><tr><td>Dragnet Operation</td><td>Feral Goat Missions</td><td style='text-align:left'><mark>Feral Goat</mark> Missions</td></tr><tr><td>Tankbuster</td><td>Moose Missions</td><td style='text-align:left'>Harvest a Female Moose with lung and/or heartshots only, using the <mark>.300 Rifle</mark>.</td></tr><tr><td>Boared to Death</td><td>Wild Boar Missions</td><td style='text-align:left'><mark>Wild Boar</mark> Missions</td></tr><tr><td>The Insider</td><td>Red Fox Missions</td><td style='text-align:left'><mark>Red Fox</mark> Missions</td></tr><tr><td>This All Sounds Awfully Familiar</td><td>Brown Bear Missions</td><td style='text-align:left'><mark>Brown Bear</mark> Missions</td></tr><tr><td>Foul Play</td><td>Roe Deer Missions</td><td style='text-align:left'><mark>Roe Deer</mark> Missions</td></tr><tr><td>Meat Robbery</td><td>Red Deer Missions</td><td style='text-align:left'><mark>Red Deer</mark> Missions</td></tr><tr><td>Moose Hunt Up Close</td><td>Blaser Missions</td><td style='text-align:left'>Harvest a Moose from under 30 meters (approx. 98 ft) using a <mark>12 GA Blaser F3 Game O/U Shotgun</mark> loaded with Slug shells.</td></tr><tr><td>Blacktail From Afar</td><td>Anschütz Missions</td><td style='text-align:left'>Harvest a Blacktail Deer using a <mark>8x57 IS Anschütz 1780 D FL Bolt Action Rifle</mark> from a minimum of 100 meters (approx. 328 ft).</td></tr><tr><td>Mallard Hunting: Age Old Pastime</td><td>Mallard Missions</td><td style='text-align:left'><mark>Mallard</mark> Missions</td></tr><tr><td>Flocking To The Hills</td><td>Dall Sheep Missions</td><td style='text-align:left'><mark>Dall Sheep</mark> Missions</td></tr><tr><td>Skittish Game</td><td>Tenpoint Missions</td><td style='text-align:left'>Harvest a <mark>Coyote</mark> on <mark>Whitehart</mark> Island using a <mark>Tenpoint Carbon Fusion Crossbow</mark>.</td></tr><tr><td>Take Your Pick</td><td>Parker Bows Missions</td><td style='text-align:left'><mark>Parker Bow</mark>s Missions</td></tr><tr><td>The Big Mystery</td><td>Nosler Missions</td><td style='text-align:left'>Harvest a <mark>Mule Deer</mark> using .243 ammunition.</td></tr><tr><td>Every Mewment Counts</td><td>Bobcat Missions</td><td style='text-align:left'><mark>Bobcat</mark> Missions</td></tr><tr><td>Where It All Began</td><td>Water Buffalo Missions</td><td style='text-align:left'><mark>Water Buffalo</mark> Missions</td></tr><tr><td>Majesty at Best</td><td>Grizzly Bear Missions</td><td style='text-align:left'><mark>Grizzly Bear</mark> Missions</td></tr><tr><td>Keep Your Eye Open</td><td>Aimpoint Missions</td><td style='text-align:left'>Harvest a Whitetail Deer at Redfeather Falls using a rifle mounted with an <mark>Aimpoint sight</mark>.</td></tr><tr><td>Alright Then: Prove It</td><td>Canada Goose Missions</td><td style='text-align:left'><mark>Canada Goose</mark> Missions</td></tr><tr><td>Honour. Glory. Rabbit.</td><td>Cottontail Rabbit Missions</td><td style='text-align:left'><mark>Cottontail Rabbit</mark> Missions</td></tr><tr><td>Tensions Rise</td><td>Reindeer Missions</td><td style='text-align:left'><mark>Reindeer</mark> Missions</td></tr><tr><td>An Odd Predicament</td><td>Polar Bear Missions</td><td style='text-align:left'><mark>Polar Bear</mark> Missions</td></tr><tr><td>Mountain Hooligans</td><td>Alpine Ibex Missions</td><td style='text-align:left'><mark>Alpine Ibex</mark> Missions</td></tr><tr><td>The Budgie Who Could</td><td>Magpie Goose Missions</td><td style='text-align:left'><mark>Magpie Goose</mark> Missions</td></tr><tr><td>From The Left</td><td>Settler Creeks Travel Missions</td><td style='text-align:left'><mark>Settler Creeks</mark> Travel Missions</td></tr><tr><td>Episode 1: The Fundamentals of the Rusa</td><td>Rusa Deer Missions</td><td style='text-align:left'><mark>Rusa Deer</mark> Missions</td></tr><tr><td>Learn The Rest</td><td>Hirschfelden Travel Missions</td><td style='text-align:left'><mark>Hirschfelden</mark> Travel Missions</td></tr><tr><td>Modern Fossil Requirement</td><td>Eurasian Lynx Missions</td><td style='text-align:left'><mark>Eurasian Lynx</mark> Missions</td></tr><tr><td>Stuffed Animals</td><td>Val-des-Bois Travel Missions</td><td style='text-align:left'><mark>Val-des-Bois</mark> Travel Missions</td></tr><tr><td>Entering the Odd Zone</td><td>Sambar Deer Missions</td><td style='text-align:left'><mark>Sambar Deer</mark> Missions</td></tr><tr><td>South East Cleared</td><td>Hemmeldal Travel Missions</td><td style='text-align:left'><mark>Hemmeldal</mark> Travel Missions</td></tr><tr><td>Tracking The Southern Movement</td><td>Whitehart Travel Missions</td><td style='text-align:left'><mark>Whitehart</mark> Travel Missions</td></tr><tr><td>It's a Sair Ficht For Half a Loaf!</td><td>Ptarmigan Missions</td><td style='text-align:left'>Harvest an airborne <mark>Willow Ptarmigan</mark> with a score lower than 500.</td></tr><tr><td>Source of the Problem</td><td>Banteng Missions</td><td style='text-align:left'><mark>Banteng</mark> Missions</td></tr><tr><td>Power In Numbers</td><td>European Rabbit Missions</td><td style='text-align:left'><mark>European Rabbit</mark> Missions</td></tr><tr><td>True Kangaroo Hunter</td><td>Red Kangaroo Missions</td><td style='text-align:left'><mark>Red Kangaroo</mark> Missions</td></tr><tr><td>Places To Remember</td><td>Rougarou Bayou Travel Missions</td><td style='text-align:left'><mark>Rougarou Bayou</mark> Travel Missions</td></tr><tr><td>Off On the Wrong Foot</td><td>Bison Missions</td><td style='text-align:left'><mark>Bison</mark> Missions</td></tr><tr><td>Skittish</td><td>Arctic Fox Missions</td><td style='text-align:left'><mark>Arctic Fox</mark> Missions</td></tr><tr><td>There’s Been a Disappearance</td><td>Sitka Deer Missions</td><td style='text-align:left'><mark>Sitka Deer</mark> Missions</td></tr><tr><td>When Snow Falls, Nature Listens</td><td>Snow Goose Missions</td><td style='text-align:left'><mark>Snow Goose</mark> Missions</td></tr><tr><td>Smelly Evidence</td><td>Snowshoe Hare Missions</td><td style='text-align:left'><mark>Snowshoe Hare</mark> Missions</td></tr><tr><td>Sustainability</td><td>Traditional Bow Missions</td><td style='text-align:left'>Harvest a <mark>Cottontail Rabbit</mark> from a distance of at least 15 meters (approx. 49 ft) using a <mark>Longbow</mark>.</td></tr><tr><td>First Audition</td><td>Duck Missions</td><td style='text-align:left'>Spot a <mark>Mallard</mark>.</td></tr><tr><td>The Birdshot Chapter</td><td>Shotgun Missions</td><td style='text-align:left'>Harvest a <mark>Turkey</mark> in <mark>Settler Creeks</mark> using any permitted birdshot ammo.</td></tr><tr><td>Scoping the Sickness</td><td>Bighorn Sheep Missions</td><td style='text-align:left'><mark>Bighorn Sheep</mark> Missions</td></tr><tr><td>Meow from the Hills</td><td>Puma Missions</td><td style='text-align:left'><mark>Puma</mark> Missions</td></tr><tr><td>Fresh Produce</td><td>Rocky Mountain Elk Missions</td><td style='text-align:left'><mark>Rocky Mountain Elk</mark> Missions</td></tr><tr><td>Gold of the past</td><td>Timbergold Trails Travel Missions</td><td style='text-align:left'><mark>Timbergold Trails</mark> Travel Missions</td></tr></table>"
      ],
      "text/plain": [
       "<IPython.core.display.HTML object>"
      ]
     },
     "execution_count": 14,
     "metadata": {},
     "output_type": "execute_result"
    }
   ],
   "source": [
    "out = \"<table>\"\n",
    "\n",
    "for m,mg in goodMissions:\n",
    "    out += f\"<tr><td>{m['title']}</td><td>{mg['title']}</td><td style='text-align:left'><ul>\"\n",
    "    for obj in m[\"objectives\"]:\n",
    "        out += f\"<li>{obj['title']}</li>\"\n",
    "    out += \"</ul></td></tr>\"\n",
    "    \n",
    "for m,mg,st in badMissions:\n",
    "    out += f\"<tr><td>{m['title']}</td><td>{mg['title']}</td><td style='text-align:left'>{st}</td></tr>\"\n",
    "    \n",
    "out += \"</table>\"\n",
    "\n",
    "HTML(out)"
   ]
  }
 ],
 "metadata": {
  "kernelspec": {
   "display_name": "Python 3",
   "language": "python",
   "name": "python3"
  },
  "language_info": {
   "codemirror_mode": {
    "name": "ipython",
    "version": 3
   },
   "file_extension": ".py",
   "mimetype": "text/x-python",
   "name": "python",
   "nbconvert_exporter": "python",
   "pygments_lexer": "ipython3",
   "version": "3.8.8"
  }
 },
 "nbformat": 4,
 "nbformat_minor": 5
}
