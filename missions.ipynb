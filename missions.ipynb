{
 "cells": [
  {
   "cell_type": "code",
   "execution_count": null,
   "id": "genuine-approval",
   "metadata": {},
   "outputs": [],
   "source": [
    "import json\n",
    "import re\n",
    "import requests\n",
    "import urllib\n",
    "\n",
    "from IPython.core.display import HTML"
   ]
  },
  {
   "cell_type": "markdown",
   "id": "prompt-chaos",
   "metadata": {},
   "source": [
    "## Settings"
   ]
  },
  {
   "cell_type": "code",
   "execution_count": null,
   "id": "ethical-yellow",
   "metadata": {},
   "outputs": [],
   "source": [
    "# Selected reserve\n",
    "reserve  = \"Settler Creeks\"\n",
    "\n",
    "# Login info for www.thehunter.com\n",
    "username = \"<email>\"\n",
    "password = \"<password>\""
   ]
  },
  {
   "cell_type": "markdown",
   "id": "democratic-carpet",
   "metadata": {},
   "source": [
    "## Scrape Data from www.thehunter.com"
   ]
  },
  {
   "cell_type": "code",
   "execution_count": null,
   "id": "abstract-graham",
   "metadata": {},
   "outputs": [],
   "source": [
    "session = requests.Session()\n",
    "\n",
    "data  = urllib.parse.urlencode({\"email\": username, \"password\": password})\n",
    "r1    = session.post(\"https://www.thehunter.com/login?xhr=true&return_to=/\",data=data)\n",
    "r2    = session.get (\"https://www.thehunter.com/#feed\"         \n",
    "                    )\n",
    "token = re.search(r'var userAccessToken = \"(\\w+)\";',r2.text)[1]\n",
    "oauth = re.search(r'oauth_consumer_key: \"(\\w+)\"',   r2.text)[1]\n",
    "\n",
    "data  = urllib.parse.urlencode({\"oauth_access_token\": token})\n",
    "r3    = session.post(\"https://api.thehunter.com/v1/Mission/missions\",       data=data)\n",
    "r4    = session.post(\"https://api.thehunter.com/v1/Me/me\",                  data=data)\n",
    "\n",
    "data  = urllib.parse.urlencode({\"oauth_consumer_key\": oauth})\n",
    "r5    = session.post(\"https://api.thehunter.com/v1/Application/application\",data=data)"
   ]
  },
  {
   "cell_type": "code",
   "execution_count": null,
   "id": "visible-murder",
   "metadata": {},
   "outputs": [],
   "source": [
    "activeMissions = json.loads(r3._content)[\"active\"]\n",
    "myItems        = dict((int(iid),cnt) for iid,cnt in json.loads(r4._content)[\"items\"].items())\n",
    "application    = json.loads(r5._content)\n",
    "missions       = dict([(m[\"id\"],m) for m in application[\"missions\"]])\n",
    "species        = dict([(s[\"id\"],s) for s in application[\"species\" ]])\n",
    "reserves       = dict([(r[\"id\"],r) for r in application[\"reserves\"]])\n",
    "items          = dict([(i[\"id\"],i) for i in application[\"items\"   ]])"
   ]
  },
  {
   "cell_type": "code",
   "execution_count": null,
   "id": "progressive-weekly",
   "metadata": {},
   "outputs": [],
   "source": [
    "# add mission group to the individual missions\n",
    "missionGroups = {}\n",
    "for mg in application[\"mission_groups\"]:\n",
    "    mgid = mg[\"id\"]\n",
    "    missionGroups[mgid] = mg\n",
    "    for mid in mg[\"missions\"]:\n",
    "        missions[mid][\"missionGroup\"] = mgid"
   ]
  },
  {
   "cell_type": "markdown",
   "id": "adolescent-pathology",
   "metadata": {},
   "source": [
    "## Filter Missions by Keywords"
   ]
  },
  {
   "cell_type": "markdown",
   "id": "final-spectacular",
   "metadata": {},
   "source": [
    "Check whether at least one of the keywords appears in one of the titles."
   ]
  },
  {
   "cell_type": "code",
   "execution_count": null,
   "id": "destroyed-shoot",
   "metadata": {},
   "outputs": [],
   "source": [
    "def checkKeywords(kws,titles):\n",
    "    for ti in titles:\n",
    "        pattern = f\"({'|'.join(re.escape(kw) for kw in kws)})\"\n",
    "        newTi,n = re.subn(pattern,r\"<mark>\\1</mark>\",ti,flags=re.IGNORECASE)\n",
    "        if n > 0:\n",
    "            return newTi\n",
    "    return None"
   ]
  },
  {
   "cell_type": "markdown",
   "id": "applied-child",
   "metadata": {},
   "source": [
    "Extract keywords from a reserve. Whitehart Island is sometimes referred to just as Whitehart and the apostrophe in Logger's Point is used inconsistently."
   ]
  },
  {
   "cell_type": "code",
   "execution_count": null,
   "id": "square-lottery",
   "metadata": {},
   "outputs": [],
   "source": [
    "def reserveKeyword(r):\n",
    "    nm = r[\"name\"]\n",
    "    if nm == \"Whitehart Island\":\n",
    "        return (\"Whitehart\", nm)\n",
    "    elif nm == \"Logger's Point\":\n",
    "        return (\"Loggers Point\", nm)\n",
    "    return (nm,)"
   ]
  },
  {
   "cell_type": "markdown",
   "id": "animal-ferry",
   "metadata": {},
   "source": [
    "Extract keywords from a species. Use only Typical variants and delete Non-Typical (e.g. for Mule and *tail deer)."
   ]
  },
  {
   "cell_type": "code",
   "execution_count": null,
   "id": "removable-palestinian",
   "metadata": {},
   "outputs": [],
   "source": [
    "def speciesKeyword(s):\n",
    "    nm = s[\"name\"]\n",
    "    if nm.endswith(\" (Typical)\"):\n",
    "        nm = nm[:-10]\n",
    "    elif nm.endswith(\" (Non-Typical)\"):\n",
    "        return tuple()\n",
    "    return (nm,)"
   ]
  },
  {
   "cell_type": "markdown",
   "id": "dress-roads",
   "metadata": {},
   "source": [
    "Extract keywords for an item"
   ]
  },
  {
   "cell_type": "code",
   "execution_count": null,
   "id": "aggressive-wrist",
   "metadata": {},
   "outputs": [],
   "source": [
    "def itemKeyword(i):\n",
    "    nm  = i[\"name\"]\n",
    "    snm = i[\"shortname\"]\n",
    "    if nm == \"Compound Bow \\\"Parker Python\\\"\":\n",
    "        return (\"Parker Python Compound Bow\",nm,snm)\n",
    "    elif nm.startswith(\"Aimpoint\"):\n",
    "        return (nm,\"Aimpoint Sight\")\n",
    "    elif snm is not None:\n",
    "        return (nm,snm)\n",
    "    else:\n",
    "        return (nm,)        "
   ]
  },
  {
   "cell_type": "markdown",
   "id": "mighty-brunei",
   "metadata": {},
   "source": [
    "Collect all bad keywords"
   ]
  },
  {
   "cell_type": "code",
   "execution_count": null,
   "id": "tight-mining",
   "metadata": {},
   "outputs": [],
   "source": [
    "badKeywords  = set()\n",
    "goodKeywords = set()\n",
    "\n",
    "# get id of selected reserve\n",
    "rid = [rid for rid,r in reserves.items() if r[\"name\"] == reserve][0]\n",
    "\n",
    "goodKeywords.add(reserve)\n",
    "\n",
    "# add keywords for all other reserves\n",
    "for orid,r in reserves.items():\n",
    "    if rid != orid:\n",
    "        badKeywords.update(reserveKeyword(r))\n",
    "     \n",
    "# add keywords for the species in the selected reserve\n",
    "for sid in reserves[rid][\"species\"]:\n",
    "    goodKeywords.update(speciesKeyword(species[sid]))\n",
    "    \n",
    "# add keywords for all species that are not in the selected reserve\n",
    "for sid,s in species.items():\n",
    "    if sid not in reserves[rid][\"species\"]:\n",
    "        badKeywords.update(speciesKeyword(s))\n",
    "\n",
    "# add keywords for all my items\n",
    "for iid,count in myItems.items():\n",
    "    if count[0] > 0:\n",
    "        goodKeywords.update(itemKeyword(items[iid]))\n",
    "\n",
    "# add keywords for all items that I do not own\n",
    "for iid,i in items.items():\n",
    "    if iid not in myItems.keys() or myItems[iid][0] == 0:\n",
    "        badKeywords.update(itemKeyword(i))"
   ]
  },
  {
   "cell_type": "code",
   "execution_count": null,
   "id": "broke-france",
   "metadata": {},
   "outputs": [],
   "source": [
    "# Remove good keywords from bad keywords\n",
    "# e.g. if the selected reserve has a Willow Ptarmigan resulting in a good keyword \"Ptarmigan\"\n",
    "# and the bad keywords contain \"Ptarmigan\" because of the \"Rock Ptarmigan\", then a mission which\n",
    "# mentions just a Ptarmigan shall not be filtered out\n",
    "\n",
    "badKeywords -= goodKeywords"
   ]
  },
  {
   "cell_type": "markdown",
   "id": "heated-ridge",
   "metadata": {},
   "source": [
    "Filter missions that contain no bad keywords"
   ]
  },
  {
   "cell_type": "code",
   "execution_count": null,
   "id": "agreed-photograph",
   "metadata": {},
   "outputs": [],
   "source": [
    "goodMissions = []\n",
    "badMissions  = []\n",
    "\n",
    "for mid in activeMissions:\n",
    "    m  = missions[mid]\n",
    "    mg = missionGroups[m[\"missionGroup\"]]\n",
    "    \n",
    "    mgTitle = mg[\"title\"]\n",
    "    mTitle  = m[\"title\"]\n",
    "    tTitles = tuple(obj[\"title\"] for obj in m[\"objectives\"])\n",
    "    \n",
    "    ret = checkKeywords(badKeywords, (mgTitle, mTitle) + tTitles)\n",
    "    if ret is not None:\n",
    "        badMissions.append((m,mg,ret))\n",
    "    else:\n",
    "        goodMissions.append((m,mg))"
   ]
  },
  {
   "cell_type": "markdown",
   "id": "accepted-emperor",
   "metadata": {},
   "source": [
    "## Output HTML Table with Filtered Missions\n",
    "Missions that are ready to be completed are shown on top. After that all the blocked missions appear together with the title and highlighted keyword, which caused the mission to be filtered out."
   ]
  },
  {
   "cell_type": "code",
   "execution_count": null,
   "id": "preliminary-austin",
   "metadata": {},
   "outputs": [],
   "source": [
    "out = \"<table>\"\n",
    "\n",
    "for m,mg in goodMissions:\n",
    "    out += f\"<tr><td>{m['title']}</td><td>{mg['title']}</td><td style='text-align:left'><ul>\"\n",
    "    for obj in m[\"objectives\"]:\n",
    "        out += f\"<li>{obj['title']}</li>\"\n",
    "    out += \"</ul></td></tr>\"\n",
    "    \n",
    "for m,mg,st in badMissions:\n",
    "    out += f\"<tr><td>{m['title']}</td><td>{mg['title']}</td><td style='text-align:left'>{st}</td></tr>\"\n",
    "    \n",
    "out += \"</table>\"\n",
    "\n",
    "HTML(out)"
   ]
  },
  {
   "cell_type": "code",
   "execution_count": null,
   "id": "surprised-mechanism",
   "metadata": {},
   "outputs": [],
   "source": []
  }
 ],
 "metadata": {
  "kernelspec": {
   "display_name": "Python 3",
   "language": "python",
   "name": "python3"
  },
  "language_info": {
   "codemirror_mode": {
    "name": "ipython",
    "version": 3
   },
   "file_extension": ".py",
   "mimetype": "text/x-python",
   "name": "python",
   "nbconvert_exporter": "python",
   "pygments_lexer": "ipython3",
   "version": "3.8.5"
  }
 },
 "nbformat": 4,
 "nbformat_minor": 5
}
